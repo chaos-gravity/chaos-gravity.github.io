{
 "cells": [
  {
   "cell_type": "code",
   "execution_count": 16,
   "metadata": {},
   "outputs": [],
   "source": [
    "import cv2\n",
    "import math"
   ]
  },
  {
   "cell_type": "code",
   "execution_count": 12,
   "metadata": {},
   "outputs": [],
   "source": [
    "path = \"/home/hscc/Project/chaos-gravity/assets/images/tmp/\""
   ]
  },
  {
   "cell_type": "code",
   "execution_count": 4,
   "metadata": {},
   "outputs": [
    {
     "name": "stdout",
     "output_type": "stream",
     "text": [
      "1.png\t     640_004.png  640_007.png  640_010.png  640.png\r\n",
      "640_002.png  640_005.png  640_008.png  640_011.png\r\n",
      "640_003.png  640_006.png  640_009.png  640.jpeg\r\n"
     ]
    }
   ],
   "source": [
    "#根据图片文章内顺序和缩放比例重新命名图片，如下图所示，并保证目录下只有图片\n",
    "!ls /home/hscc/Pictures/Cross_Entropy_Loss/"
   ]
  },
  {
   "cell_type": "code",
   "execution_count": 4,
   "metadata": {},
   "outputs": [],
   "source": [
    "import os"
   ]
  },
  {
   "cell_type": "code",
   "execution_count": null,
   "metadata": {},
   "outputs": [],
   "source": []
  },
  {
   "cell_type": "code",
   "execution_count": 11,
   "metadata": {},
   "outputs": [
    {
     "name": "stdout",
     "output_type": "stream",
     "text": [
      "/home/hscc/Project/chaos-gravity/assets/images/tmp/ [] ['640_025', '640(20)', '640_003', '640_027', '640(6)', '640_014', '640(12)', '640_005', '640(26)', '640(25)', '640_026', '640', '640(3)', '640_017', '640(13)', '640(28)', '640_023', '640(7)', '640_013', '640(5)', '640_015', '640_006', '640(17)', '640(16)', '640(11)', '640(23)', '640(14)', '640(22)', '640_019', '640(19)', '640(4)', '640(21)', '640(24)', '640_004', '640_008', '640(10)', '640_007', '640_002', '640_018', '640_020', '640_022', '640(2)', '640.png', '640_011', '640(8)', '640_021', '640_012', '640(1)', '640_009', '640(18)', '640_028', '640(27)', '640_010', '640_024', '640_016', '640(15)', '640(9)']\n"
     ]
    }
   ],
   "source": [
    "#rename\n",
    "for i,j,k in os.walk(path):\n",
    "    print(i, j, k)\n",
    "    for item in k:\n",
    "        image = cv2.imread(path+item)\n",
    "\n",
    "        cv2.imwrite(path+item.split(\".\")[0]+\".png\", image)"
   ]
  },
  {
   "cell_type": "code",
   "execution_count": 22,
   "metadata": {},
   "outputs": [
    {
     "name": "stdout",
     "output_type": "stream",
     "text": [
      "/home/hscc/Project/chaos-gravity/assets/images/tmp/ [] ['lang_80.png', 'llmc.png', 'l4.png', 'tripletloss.png', 'tripletloss_60.png', 'arccos.png', 'llmc_60.png', 'l3_60.png', 'l2_30.png', 'arccos_30.png', 'l4_80.png', 'l2.png', 'lang.png', 'l3.png']\n",
      "lang_80.png\n",
      "lang\n",
      "0.894427190999916\n",
      "tripletloss_60.png\n",
      "tripletloss\n",
      "0.7745966692414834\n",
      "llmc_60.png\n",
      "llmc\n",
      "0.7745966692414834\n",
      "l3_60.png\n",
      "l3\n",
      "0.7745966692414834\n",
      "l2_30.png\n",
      "l2\n",
      "0.5477225575051661\n",
      "arccos_30.png\n",
      "arccos\n",
      "0.5477225575051661\n",
      "l4_80.png\n",
      "l4\n",
      "0.894427190999916\n"
     ]
    }
   ],
   "source": [
    "for i,j,k in os.walk(path):\n",
    "    print(i, j, k)\n",
    "    for item in k:\n",
    "        if len(item.split(\".\")[0].split(\"_\"))<2:\n",
    "            continue\n",
    "        name = item.split(\".\")[0].split(\"_\")[0]\n",
    "        ratio = math.sqrt(float(item.split(\".\")[0].split(\"_\")[-1]))/10\n",
    "        print(item)\n",
    "        print(name)\n",
    "        print(ratio)\n",
    "        image = cv2.imread(path+item)\n",
    "        \n",
    "        width = int(image.shape[1] * ratio)\n",
    "        height = int(image.shape[0] * ratio)\n",
    "        dim = (width, height)\n",
    "        new_image = cv2.resize(image, dim, interpolation = cv2.INTER_AREA)\n",
    "        cv2.imwrite(path+name+\".png\", new_image)"
   ]
  },
  {
   "cell_type": "code",
   "execution_count": null,
   "metadata": {},
   "outputs": [],
   "source": []
  },
  {
   "cell_type": "code",
   "execution_count": null,
   "metadata": {},
   "outputs": [],
   "source": []
  }
 ],
 "metadata": {
  "kernelspec": {
   "display_name": "Python 3",
   "language": "python",
   "name": "python3"
  },
  "language_info": {
   "codemirror_mode": {
    "name": "ipython",
    "version": 3
   },
   "file_extension": ".py",
   "mimetype": "text/x-python",
   "name": "python",
   "nbconvert_exporter": "python",
   "pygments_lexer": "ipython3",
   "version": "3.7.7"
  }
 },
 "nbformat": 4,
 "nbformat_minor": 4
}
